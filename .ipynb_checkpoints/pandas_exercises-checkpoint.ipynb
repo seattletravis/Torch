{
 "cells": [
  {
   "cell_type": "code",
   "execution_count": 1,
   "id": "c797532f",
   "metadata": {},
   "outputs": [],
   "source": [
    "import numpy as np\n",
    "import pandas as pd"
   ]
  },
  {
   "cell_type": "code",
   "execution_count": 8,
   "id": "635225e7",
   "metadata": {},
   "outputs": [],
   "source": [
    "labels = ['a', 'b', 'c']"
   ]
  },
  {
   "cell_type": "code",
   "execution_count": 15,
   "id": "87cba907",
   "metadata": {},
   "outputs": [],
   "source": [
    "mylist = [10, 20, 30]"
   ]
  },
  {
   "cell_type": "code",
   "execution_count": 17,
   "id": "e7d53ab6",
   "metadata": {},
   "outputs": [],
   "source": [
    "arr = np.array(mylist)"
   ]
  },
  {
   "cell_type": "code",
   "execution_count": 18,
   "id": "2783f032",
   "metadata": {},
   "outputs": [
    {
     "data": {
      "text/plain": [
       "array([10, 20, 30])"
      ]
     },
     "execution_count": 18,
     "metadata": {},
     "output_type": "execute_result"
    }
   ],
   "source": [
    "arr"
   ]
  },
  {
   "cell_type": "code",
   "execution_count": 19,
   "id": "b2ab1598",
   "metadata": {},
   "outputs": [],
   "source": [
    "d = {'a':10,'b':20,'c':30}"
   ]
  },
  {
   "cell_type": "code",
   "execution_count": 23,
   "id": "88b0ea7a",
   "metadata": {},
   "outputs": [
    {
     "data": {
      "text/plain": [
       "0    10\n",
       "1    20\n",
       "2    30\n",
       "dtype: int64"
      ]
     },
     "execution_count": 23,
     "metadata": {},
     "output_type": "execute_result"
    }
   ],
   "source": [
    "pd.Series(data=mylist)"
   ]
  },
  {
   "cell_type": "code",
   "execution_count": 25,
   "id": "f81a8e81",
   "metadata": {},
   "outputs": [
    {
     "data": {
      "text/plain": [
       "a    10\n",
       "b    20\n",
       "c    30\n",
       "dtype: int32"
      ]
     },
     "execution_count": 25,
     "metadata": {},
     "output_type": "execute_result"
    }
   ],
   "source": [
    "pd.Series(data=arr,index=labels)"
   ]
  },
  {
   "cell_type": "code",
   "execution_count": 27,
   "id": "dd238696",
   "metadata": {},
   "outputs": [],
   "source": [
    "ser1=pd.Series([1,2,3,4],index=['usa','canda','usse', 'Japan'])"
   ]
  },
  {
   "cell_type": "code",
   "execution_count": 28,
   "id": "c3786136",
   "metadata": {
    "scrolled": true
   },
   "outputs": [
    {
     "data": {
      "text/plain": [
       "usa      1\n",
       "canda    2\n",
       "usse     3\n",
       "Japan    4\n",
       "dtype: int64"
      ]
     },
     "execution_count": 28,
     "metadata": {},
     "output_type": "execute_result"
    }
   ],
   "source": [
    "ser1"
   ]
  },
  {
   "cell_type": "code",
   "execution_count": 31,
   "id": "de49e98c",
   "metadata": {},
   "outputs": [
    {
     "data": {
      "text/plain": [
       "1"
      ]
     },
     "execution_count": 31,
     "metadata": {},
     "output_type": "execute_result"
    }
   ],
   "source": [
    "ser1['usa']"
   ]
  },
  {
   "cell_type": "code",
   "execution_count": null,
   "id": "15cc85d3",
   "metadata": {},
   "outputs": [],
   "source": []
  }
 ],
 "metadata": {
  "kernelspec": {
   "display_name": "Python 3 (ipykernel)",
   "language": "python",
   "name": "python3"
  },
  "language_info": {
   "codemirror_mode": {
    "name": "ipython",
    "version": 3
   },
   "file_extension": ".py",
   "mimetype": "text/x-python",
   "name": "python",
   "nbconvert_exporter": "python",
   "pygments_lexer": "ipython3",
   "version": "3.7.3"
  }
 },
 "nbformat": 4,
 "nbformat_minor": 5
}
