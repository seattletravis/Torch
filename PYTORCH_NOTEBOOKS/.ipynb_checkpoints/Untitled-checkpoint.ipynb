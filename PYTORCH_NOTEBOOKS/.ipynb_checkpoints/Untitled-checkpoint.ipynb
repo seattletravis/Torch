{
 "cells": [
  {
   "cell_type": "code",
   "execution_count": null,
   "id": "a4e93979",
   "metadata": {},
   "outputs": [],
   "source": [
    "import numpy as np"
   ]
  },
  {
   "cell_type": "code",
   "execution_count": null,
   "id": "3b63793a",
   "metadata": {},
   "outputs": [],
   "source": [
    "arr = np.zeros(10)"
   ]
  },
  {
   "cell_type": "code",
   "execution_count": null,
   "id": "330e4846",
   "metadata": {},
   "outputs": [],
   "source": [
    "arr"
   ]
  },
  {
   "cell_type": "code",
   "execution_count": null,
   "id": "ac4d49bc",
   "metadata": {},
   "outputs": [],
   "source": []
  }
 ],
 "metadata": {
  "kernelspec": {
   "display_name": "Python 3 (ipykernel)",
   "language": "python",
   "name": "python3"
  }
 },
 "nbformat": 4,
 "nbformat_minor": 5
}
