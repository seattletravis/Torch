{
 "cells": [
  {
   "cell_type": "code",
   "execution_count": 39,
   "id": "c15e555d",
   "metadata": {},
   "outputs": [],
   "source": [
    "import torch\n",
    "\n",
    "import numpy as np\n",
    "import matplotlib.pyplot as plt"
   ]
  },
  {
   "cell_type": "code",
   "execution_count": 40,
   "id": "4dec99e9",
   "metadata": {},
   "outputs": [],
   "source": [
    "import torch.nn as nn"
   ]
  },
  {
   "cell_type": "code",
   "execution_count": 41,
   "id": "d1865c54",
   "metadata": {},
   "outputs": [],
   "source": [
    "X = torch.linspace(1,50,50).reshape(-1,1)"
   ]
  },
  {
   "cell_type": "code",
   "execution_count": 42,
   "id": "8b4d88f1",
   "metadata": {},
   "outputs": [
    {
     "data": {
      "text/plain": [
       "tensor([[ 1.],\n",
       "        [ 2.],\n",
       "        [ 3.],\n",
       "        [ 4.],\n",
       "        [ 5.],\n",
       "        [ 6.],\n",
       "        [ 7.],\n",
       "        [ 8.],\n",
       "        [ 9.],\n",
       "        [10.],\n",
       "        [11.],\n",
       "        [12.],\n",
       "        [13.],\n",
       "        [14.],\n",
       "        [15.],\n",
       "        [16.],\n",
       "        [17.],\n",
       "        [18.],\n",
       "        [19.],\n",
       "        [20.],\n",
       "        [21.],\n",
       "        [22.],\n",
       "        [23.],\n",
       "        [24.],\n",
       "        [25.],\n",
       "        [26.],\n",
       "        [27.],\n",
       "        [28.],\n",
       "        [29.],\n",
       "        [30.],\n",
       "        [31.],\n",
       "        [32.],\n",
       "        [33.],\n",
       "        [34.],\n",
       "        [35.],\n",
       "        [36.],\n",
       "        [37.],\n",
       "        [38.],\n",
       "        [39.],\n",
       "        [40.],\n",
       "        [41.],\n",
       "        [42.],\n",
       "        [43.],\n",
       "        [44.],\n",
       "        [45.],\n",
       "        [46.],\n",
       "        [47.],\n",
       "        [48.],\n",
       "        [49.],\n",
       "        [50.]])"
      ]
     },
     "execution_count": 42,
     "metadata": {},
     "output_type": "execute_result"
    }
   ],
   "source": [
    "X"
   ]
  },
  {
   "cell_type": "code",
   "execution_count": 43,
   "id": "205419c7",
   "metadata": {},
   "outputs": [],
   "source": [
    "torch.manual_seed(71)\n",
    "e = torch.randint(-8,9,(50,1),dtype=torch.float)"
   ]
  },
  {
   "cell_type": "code",
   "execution_count": 44,
   "id": "b09d9196",
   "metadata": {},
   "outputs": [
    {
     "data": {
      "text/plain": [
       "tensor([[ 2.],\n",
       "        [ 7.],\n",
       "        [ 2.],\n",
       "        [ 6.],\n",
       "        [ 2.],\n",
       "        [-4.],\n",
       "        [ 2.],\n",
       "        [-5.],\n",
       "        [ 4.],\n",
       "        [ 1.],\n",
       "        [ 2.],\n",
       "        [ 3.],\n",
       "        [ 1.],\n",
       "        [-8.],\n",
       "        [ 5.],\n",
       "        [ 5.],\n",
       "        [-6.],\n",
       "        [ 0.],\n",
       "        [-7.],\n",
       "        [-8.],\n",
       "        [-3.],\n",
       "        [-1.],\n",
       "        [ 2.],\n",
       "        [-6.],\n",
       "        [-3.],\n",
       "        [ 3.],\n",
       "        [ 2.],\n",
       "        [ 3.],\n",
       "        [ 4.],\n",
       "        [ 5.],\n",
       "        [ 1.],\n",
       "        [ 7.],\n",
       "        [ 6.],\n",
       "        [-1.],\n",
       "        [-6.],\n",
       "        [-5.],\n",
       "        [-3.],\n",
       "        [ 7.],\n",
       "        [ 0.],\n",
       "        [ 8.],\n",
       "        [-1.],\n",
       "        [-2.],\n",
       "        [ 2.],\n",
       "        [-8.],\n",
       "        [-1.],\n",
       "        [ 6.],\n",
       "        [-8.],\n",
       "        [-3.],\n",
       "        [-7.],\n",
       "        [-2.]])"
      ]
     },
     "execution_count": 44,
     "metadata": {},
     "output_type": "execute_result"
    }
   ],
   "source": [
    "e"
   ]
  },
  {
   "cell_type": "code",
   "execution_count": 45,
   "id": "ac411eb4",
   "metadata": {},
   "outputs": [],
   "source": [
    "y = 2*X + 1 + e"
   ]
  },
  {
   "cell_type": "code",
   "execution_count": 46,
   "id": "25fcc126",
   "metadata": {},
   "outputs": [
    {
     "data": {
      "text/plain": [
       "torch.Size([50, 1])"
      ]
     },
     "execution_count": 46,
     "metadata": {},
     "output_type": "execute_result"
    }
   ],
   "source": [
    "y.shape"
   ]
  },
  {
   "cell_type": "code",
   "execution_count": 47,
   "id": "82f24cd5",
   "metadata": {},
   "outputs": [
    {
     "data": {
      "text/plain": [
       "<matplotlib.collections.PathCollection at 0x22f39fa58d0>"
      ]
     },
     "execution_count": 47,
     "metadata": {},
     "output_type": "execute_result"
    },
    {
     "data": {
      "image/png": "[encoded data removed]",
      "text/plain": [
       "<Figure size 640x480 with 1 Axes>"
      ]
     },
     "metadata": {},
     "output_type": "display_data"
    }
   ],
   "source": [
    "plt.scatter(X.numpy(),y.numpy())"
   ]
  },
  {
   "cell_type": "code",
   "execution_count": 48,
   "id": "1f3071cd",
   "metadata": {},
   "outputs": [
    {
     "name": "stdout",
     "output_type": "stream",
     "text": [
      "Parameter containing:\n",
      "tensor([[0.1060]], requires_grad=True)\n",
      "Parameter containing:\n",
      "tensor([0.9638], requires_grad=True)\n"
     ]
    }
   ],
   "source": [
    "torch.manual_seed(59)\n",
    "\n",
    "model = nn.Linear(in_features=1, out_features=1)\n",
    "print(model.weight)\n",
    "print(model.bias)"
   ]
  },
  {
   "cell_type": "code",
   "execution_count": 49,
   "id": "76e316fb",
   "metadata": {},
   "outputs": [],
   "source": [
    "class Model(nn.Module):\n",
    "    \n",
    "    def __init__(self, in_features, out_features):\n",
    "        \n",
    "        super().__init__()\n",
    "        self.linear = nn.Linear(in_features, out_features)\n",
    "        \n",
    "    def forward(self,x):\n",
    "        y_pred = self.linear(x)\n",
    "        return y_pred"
   ]
  },
  {
   "cell_type": "code",
   "execution_count": 50,
   "id": "0d663cc1",
   "metadata": {},
   "outputs": [
    {
     "name": "stdout",
     "output_type": "stream",
     "text": [
      "Parameter containing:\n",
      "tensor([[0.1060]], requires_grad=True)\n",
      "Parameter containing:\n",
      "tensor([0.9638], requires_grad=True)\n"
     ]
    }
   ],
   "source": [
    "torch.manual_seed(59)\n",
    "\n",
    "model = Model(1,1)\n",
    "\n",
    "print(model.linear.weight)\n",
    "print(model.linear.bias)"
   ]
  },
  {
   "cell_type": "code",
   "execution_count": 51,
   "id": "cd199305",
   "metadata": {},
   "outputs": [
    {
     "name": "stdout",
     "output_type": "stream",
     "text": [
      "linear.weight \t 0.10597813129425049\n",
      "linear.bias \t 0.9637961387634277\n"
     ]
    }
   ],
   "source": [
    "for name, param in model.named_parameters():\n",
    "    print(name, '\\t',param.item())"
   ]
  },
  {
   "cell_type": "code",
   "execution_count": 52,
   "id": "8d81b836",
   "metadata": {},
   "outputs": [
    {
     "name": "stdout",
     "output_type": "stream",
     "text": [
      "tensor([1.1758], grad_fn=<AddBackward0>)\n"
     ]
    }
   ],
   "source": [
    "x = torch.tensor([2.])\n",
    "print(model.forward(x))"
   ]
  },
  {
   "cell_type": "code",
   "execution_count": 53,
   "id": "f99b2414",
   "metadata": {},
   "outputs": [],
   "source": [
    "x1 = np.linspace(0.0, 50.0,50)"
   ]
  },
  {
   "cell_type": "code",
   "execution_count": 54,
   "id": "a3d95361",
   "metadata": {},
   "outputs": [
    {
     "data": {
      "text/plain": [
       "array([ 0.        ,  1.02040816,  2.04081633,  3.06122449,  4.08163265,\n",
       "        5.10204082,  6.12244898,  7.14285714,  8.16326531,  9.18367347,\n",
       "       10.20408163, 11.2244898 , 12.24489796, 13.26530612, 14.28571429,\n",
       "       15.30612245, 16.32653061, 17.34693878, 18.36734694, 19.3877551 ,\n",
       "       20.40816327, 21.42857143, 22.44897959, 23.46938776, 24.48979592,\n",
       "       25.51020408, 26.53061224, 27.55102041, 28.57142857, 29.59183673,\n",
       "       30.6122449 , 31.63265306, 32.65306122, 33.67346939, 34.69387755,\n",
       "       35.71428571, 36.73469388, 37.75510204, 38.7755102 , 39.79591837,\n",
       "       40.81632653, 41.83673469, 42.85714286, 43.87755102, 44.89795918,\n",
       "       45.91836735, 46.93877551, 47.95918367, 48.97959184, 50.        ])"
      ]
     },
     "execution_count": 54,
     "metadata": {},
     "output_type": "execute_result"
    }
   ],
   "source": [
    "x1"
   ]
  },
  {
   "cell_type": "code",
   "execution_count": 55,
   "id": "03221dca",
   "metadata": {},
   "outputs": [],
   "source": [
    "w1 = 0.1059\n",
    "b1 = 0.9637\n",
    "\n",
    "y1 = w1*x1 + b1"
   ]
  },
  {
   "cell_type": "code",
   "execution_count": 56,
   "id": "07afc3d4",
   "metadata": {},
   "outputs": [
    {
     "data": {
      "text/plain": [
       "array([0.9637    , 1.07176122, 1.17982245, 1.28788367, 1.3959449 ,\n",
       "       1.50400612, 1.61206735, 1.72012857, 1.8281898 , 1.93625102,\n",
       "       2.04431224, 2.15237347, 2.26043469, 2.36849592, 2.47655714,\n",
       "       2.58461837, 2.69267959, 2.80074082, 2.90880204, 3.01686327,\n",
       "       3.12492449, 3.23298571, 3.34104694, 3.44910816, 3.55716939,\n",
       "       3.66523061, 3.77329184, 3.88135306, 3.98941429, 4.09747551,\n",
       "       4.20553673, 4.31359796, 4.42165918, 4.52972041, 4.63778163,\n",
       "       4.74584286, 4.85390408, 4.96196531, 5.07002653, 5.17808776,\n",
       "       5.28614898, 5.3942102 , 5.50227143, 5.61033265, 5.71839388,\n",
       "       5.8264551 , 5.93451633, 6.04257755, 6.15063878, 6.2587    ])"
      ]
     },
     "execution_count": 56,
     "metadata": {},
     "output_type": "execute_result"
    }
   ],
   "source": [
    "y1"
   ]
  },
  {
   "cell_type": "code",
   "execution_count": 57,
   "id": "f4c40e49",
   "metadata": {},
   "outputs": [
    {
     "data": {
      "text/plain": [
       "[<matplotlib.lines.Line2D at 0x22f3a1bb160>]"
      ]
     },
     "execution_count": 57,
     "metadata": {},
     "output_type": "execute_result"
    },
    {
     "data": {
      "image/png": "[encoded data removed]",
      "text/plain": [
       "<Figure size 640x480 with 1 Axes>"
      ]
     },
     "metadata": {},
     "output_type": "display_data"
    }
   ],
   "source": [
    "plt.scatter(X.numpy(), y.numpy())\n",
    "plt.plot(x1, y1, 'r')\n"
   ]
  },
  {
   "cell_type": "code",
   "execution_count": 58,
   "id": "38311549",
   "metadata": {},
   "outputs": [],
   "source": [
    "criterion = nn.MSELoss()"
   ]
  },
  {
   "cell_type": "code",
   "execution_count": 59,
   "id": "c1179dd5",
   "metadata": {},
   "outputs": [],
   "source": [
    "optimizer = torch.optim.SGD(model.parameters(),lr=0.001)"
   ]
  },
  {
   "cell_type": "code",
   "execution_count": 60,
   "id": "8c769ee3",
   "metadata": {},
   "outputs": [
    {
     "name": "stdout",
     "output_type": "stream",
     "text": [
      "epoch 1 loss: 3057.216796875 weight: 0.10597813129425049 bias: 0.9637961387634277\n",
      "epoch 2 loss: 1588.5308837890625 weight: 3.334900379180908 bias: 1.0604636669158936\n",
      "epoch 3 loss: 830.3001708984375 weight: 1.0148327350616455 bias: 0.9922627806663513\n",
      "epoch 4 loss: 438.8524169921875 weight: 2.6817996501922607 bias: 1.0425218343734741\n",
      "epoch 5 loss: 236.7615203857422 weight: 1.4840211868286133 bias: 1.0076650381088257\n",
      "epoch 6 loss: 132.4291229248047 weight: 2.3446059226989746 bias: 1.0339646339416504\n",
      "epoch 7 loss: 78.56573486328125 weight: 1.7262253761291504 bias: 1.0163217782974243\n",
      "epoch 8 loss: 50.75775909423828 weight: 2.170504093170166 bias: 1.0302516222000122\n",
      "epoch 9 loss: 36.4012336730957 weight: 1.8512457609176636 bias: 1.0214954614639282\n",
      "epoch 10 loss: 28.98923110961914 weight: 2.0806007385253906 bias: 1.029038906097412\n",
      "epoch 11 loss: 25.16238784790039 weight: 1.9157683849334717 bias: 1.0248701572418213\n",
      "epoch 12 loss: 23.186473846435547 weight: 2.034165620803833 bias: 1.0291162729263306\n",
      "epoch 13 loss: 22.166122436523438 weight: 1.9490584135055542 bias: 1.027315616607666\n",
      "epoch 14 loss: 21.639110565185547 weight: 2.010172128677368 bias: 1.0298590660095215\n",
      "epoch 15 loss: 21.366769790649414 weight: 1.9662237167358398 bias: 1.0292805433273315\n",
      "epoch 16 loss: 21.225919723510742 weight: 1.997764229774475 bias: 1.030944585800171\n",
      "epoch 17 loss: 21.152944564819336 weight: 1.9750648736953735 bias: 1.0309966802597046\n",
      "epoch 18 loss: 21.115013122558594 weight: 1.991337537765503 bias: 1.032206416130066\n",
      "epoch 19 loss: 21.09518051147461 weight: 1.9796085357666016 bias: 1.0325838327407837\n",
      "epoch 20 loss: 21.084684371948242 weight: 1.9879988431930542 bias: 1.0335586071014404\n",
      "epoch 21 loss: 21.07901382446289 weight: 1.981933355331421 bias: 1.034103512763977\n",
      "epoch 22 loss: 21.075830459594727 weight: 1.9862544536590576 bias: 1.034956693649292\n",
      "epoch 23 loss: 21.07394027709961 weight: 1.9831126928329468 bias: 1.0355877876281738\n",
      "epoch 24 loss: 21.072702407836914 weight: 1.9853330850601196 bias: 1.0363779067993164\n",
      "epoch 25 loss: 21.071819305419922 weight: 1.9837009906768799 bias: 1.037053108215332\n",
      "epoch 26 loss: 21.07110595703125 weight: 1.9848365783691406 bias: 1.037810206413269\n",
      "epoch 27 loss: 21.070484161376953 weight: 1.9839837551116943 bias: 1.0385079383850098\n",
      "epoch 28 loss: 21.069913864135742 weight: 1.9845597743988037 bias: 1.039247751235962\n",
      "epoch 29 loss: 21.06937026977539 weight: 1.9841090440750122 bias: 1.0399566888809204\n",
      "epoch 30 loss: 21.068838119506836 weight: 1.9843961000442505 bias: 1.0406872034072876\n",
      "epoch 31 loss: 21.068307876586914 weight: 1.984152913093567 bias: 1.0414016246795654\n",
      "epoch 32 loss: 21.067781448364258 weight: 1.9842908382415771 bias: 1.042127013206482\n",
      "epoch 33 loss: 21.0672664642334 weight: 1.9841549396514893 bias: 1.0428439378738403\n",
      "epoch 34 loss: 21.066740036010742 weight: 1.9842157363891602 bias: 1.043566346168518\n",
      "epoch 35 loss: 21.066225051879883 weight: 1.9841355085372925 bias: 1.0442842245101929\n",
      "epoch 36 loss: 21.065706253051758 weight: 1.9841564893722534 bias: 1.0450047254562378\n",
      "epoch 37 loss: 21.065185546875 weight: 1.9841045141220093 bias: 1.0457227230072021\n",
      "epoch 38 loss: 21.06467056274414 weight: 1.9841052293777466 bias: 1.046441912651062\n",
      "epoch 39 loss: 21.064157485961914 weight: 1.9840680360794067 bias: 1.0471596717834473\n",
      "epoch 40 loss: 21.063640594482422 weight: 1.984058141708374 bias: 1.0478779077529907\n",
      "epoch 41 loss: 21.063121795654297 weight: 1.984028697013855 bias: 1.0485951900482178\n",
      "epoch 42 loss: 21.062604904174805 weight: 1.9840131998062134 bias: 1.0493125915527344\n",
      "epoch 43 loss: 21.062095642089844 weight: 1.98398756980896 bias: 1.0500292778015137\n",
      "epoch 44 loss: 21.061574935913086 weight: 1.9839695692062378 bias: 1.0507458448410034\n",
      "epoch 45 loss: 21.061071395874023 weight: 1.9839458465576172 bias: 1.051461935043335\n",
      "epoch 46 loss: 21.06055450439453 weight: 1.9839262962341309 bias: 1.0521777868270874\n",
      "epoch 47 loss: 21.060043334960938 weight: 1.9839037656784058 bias: 1.0528931617736816\n",
      "epoch 48 loss: 21.059534072875977 weight: 1.9838833808898926 bias: 1.0536082983016968\n",
      "epoch 49 loss: 21.05901527404785 weight: 1.9838614463806152 bias: 1.0543230772018433\n",
      "epoch 50 loss: 21.058507919311523 weight: 1.9838409423828125 bias: 1.055037498474121\n"
     ]
    }
   ],
   "source": [
    "epochs = 50\n",
    "losses = []\n",
    "\n",
    "for i in range(epochs):\n",
    "    \n",
    "    i = i + 1\n",
    "    \n",
    "    #PREDICTING ON THE FORWARD PASS\n",
    "    y_pred = model.forward(X)\n",
    "    \n",
    "    #CALCULATE OUR LOSS (ERROR)\n",
    "    loss = criterion(y_pred, y)\n",
    "    \n",
    "    #RECORD THAT ERROR\n",
    "    losses.append(loss)\n",
    "    \n",
    "    print(f\"epoch {i} loss: {loss.item()} weight: {model.linear.weight.item()} bias: {model.linear.bias.item()}\")\n",
    "    \n",
    "    optimizer.zero_grad()\n",
    "    \n",
    "    loss.backward()\n",
    "    optimizer.step()\n",
    "    \n",
    "\n",
    "    "
   ]
  },
  {
   "cell_type": "code",
   "execution_count": 63,
   "id": "44f48d6d",
   "metadata": {},
   "outputs": [
    {
     "data": {
      "text/plain": [
       "Text(0.5, 0, 'Epoch')"
      ]
     },
     "execution_count": 63,
     "metadata": {},
     "output_type": "execute_result"
    },
    {
     "data": {
      "image/png": "[encoded data removed]",
      "text/plain": [
       "<Figure size 640x480 with 1 Axes>"
      ]
     },
     "metadata": {},
     "output_type": "display_data"
    }
   ],
   "source": [
    "plt.plot(range(epochs),losses)\n",
    "plt.ylabel('MSE LOSS')\n",
    "plt.xlabel('Epoch')"
   ]
  },
  {
   "cell_type": "code",
   "execution_count": 64,
   "id": "42df40cd",
   "metadata": {},
   "outputs": [],
   "source": [
    "x = np.linspace(0.0, 50.0, 50)\n",
    "current_weight = model.linear.weight.item()\n",
    "current_bias = model.linear.bias.item()\n",
    "\n",
    "predicted_y = current_weight*x + current_bias"
   ]
  },
  {
   "cell_type": "code",
   "execution_count": 66,
   "id": "0c75cabe",
   "metadata": {},
   "outputs": [
    {
     "data": {
      "text/plain": [
       "array([  1.05575156,   3.08005679,   5.10436203,   7.12866726,\n",
       "         9.15297249,  11.17727772,  13.20158295,  15.22588818,\n",
       "        17.25019342,  19.27449865,  21.29880388,  23.32310911,\n",
       "        25.34741434,  27.37171957,  29.39602481,  31.42033004,\n",
       "        33.44463527,  35.4689405 ,  37.49324573,  39.51755096,\n",
       "        41.5418562 ,  43.56616143,  45.59046666,  47.61477189,\n",
       "        49.63907712,  51.66338236,  53.68768759,  55.71199282,\n",
       "        57.73629805,  59.76060328,  61.78490851,  63.80921375,\n",
       "        65.83351898,  67.85782421,  69.88212944,  71.90643467,\n",
       "        73.9307399 ,  75.95504514,  77.97935037,  80.0036556 ,\n",
       "        82.02796083,  84.05226606,  86.07657129,  88.10087653,\n",
       "        90.12518176,  92.14948699,  94.17379222,  96.19809745,\n",
       "        98.22240268, 100.24670792])"
      ]
     },
     "execution_count": 66,
     "metadata": {},
     "output_type": "execute_result"
    }
   ],
   "source": [
    "predicted_y"
   ]
  },
  {
   "cell_type": "code",
   "execution_count": 69,
   "id": "6c1afbfe",
   "metadata": {},
   "outputs": [
    {
     "data": {
      "text/plain": [
       "[<matplotlib.lines.Line2D at 0x22f3aa80828>]"
      ]
     },
     "execution_count": 69,
     "metadata": {},
     "output_type": "execute_result"
    },
    {
     "data": {
      "image/png": "[encoded data removed]",
      "text/plain": [
       "<Figure size 640x480 with 1 Axes>"
      ]
     },
     "metadata": {},
     "output_type": "display_data"
    }
   ],
   "source": [
    "plt.scatter(X.numpy(), y.numpy())\n",
    "\n",
    "plt.plot(x, predicted_y, 'r')"
   ]
  },
  {
   "cell_type": "code",
   "execution_count": null,
   "id": "80839739",
   "metadata": {},
   "outputs": [],
   "source": []
  }
 ],
 "metadata": {
  "kernelspec": {
   "display_name": "Python 3 (ipykernel)",
   "language": "python",
   "name": "python3"
  },
  "language_info": {
   "codemirror_mode": {
    "name": "ipython",
    "version": 3
   },
   "file_extension": ".py",
   "mimetype": "text/x-python",
   "name": "python",
   "nbconvert_exporter": "python",
   "pygments_lexer": "ipython3",
   "version": "3.7.3"
  }
 },
 "nbformat": 4,
 "nbformat_minor": 5
}
